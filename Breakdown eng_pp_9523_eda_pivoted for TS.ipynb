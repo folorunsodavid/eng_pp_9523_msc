{
 "cells": [
  {
   "cell_type": "code",
   "execution_count": 1,
   "id": "75c9b314",
   "metadata": {},
   "outputs": [],
   "source": [
    "import pandas as pd\n",
    "from statsmodels.tsa.holtwinters import ExponentialSmoothing"
   ]
  },
  {
   "cell_type": "code",
   "execution_count": 2,
   "id": "e99142e2",
   "metadata": {},
   "outputs": [],
   "source": [
    "# Load the decomposed data\n",
    "df = pd.read_csv(\"eng_pp_9523_eda_pivoted.csv\", index_col=0)"
   ]
  },
  {
   "cell_type": "code",
   "execution_count": 3,
   "id": "baf833bb",
   "metadata": {
    "scrolled": true
   },
   "outputs": [
    {
     "data": {
      "text/html": [
       "<div>\n",
       "<style scoped>\n",
       "    .dataframe tbody tr th:only-of-type {\n",
       "        vertical-align: middle;\n",
       "    }\n",
       "\n",
       "    .dataframe tbody tr th {\n",
       "        vertical-align: top;\n",
       "    }\n",
       "\n",
       "    .dataframe thead th {\n",
       "        text-align: right;\n",
       "    }\n",
       "</style>\n",
       "<table border=\"1\" class=\"dataframe\">\n",
       "  <thead>\n",
       "    <tr style=\"text-align: right;\">\n",
       "      <th></th>\n",
       "      <th>Year</th>\n",
       "      <th>Month</th>\n",
       "      <th>price</th>\n",
       "      <th>Old/New</th>\n",
       "      <th>Detached</th>\n",
       "      <th>Semi-detached</th>\n",
       "      <th>Terraced</th>\n",
       "      <th>Flat</th>\n",
       "      <th>Others</th>\n",
       "      <th>Street</th>\n",
       "      <th>Locality</th>\n",
       "      <th>Town/City</th>\n",
       "      <th>District</th>\n",
       "      <th>County</th>\n",
       "    </tr>\n",
       "  </thead>\n",
       "  <tbody>\n",
       "    <tr>\n",
       "      <th>0</th>\n",
       "      <td>1995</td>\n",
       "      <td>February</td>\n",
       "      <td>44500</td>\n",
       "      <td>N</td>\n",
       "      <td>0</td>\n",
       "      <td>0</td>\n",
       "      <td>1</td>\n",
       "      <td>0</td>\n",
       "      <td>0</td>\n",
       "      <td>HOWICK PARK</td>\n",
       "      <td>SUNDERLAND</td>\n",
       "      <td>SUNDERLAND</td>\n",
       "      <td>SUNDERLAND</td>\n",
       "      <td>TYNE AND WEAR</td>\n",
       "    </tr>\n",
       "    <tr>\n",
       "      <th>1</th>\n",
       "      <td>1995</td>\n",
       "      <td>January</td>\n",
       "      <td>56500</td>\n",
       "      <td>N</td>\n",
       "      <td>0</td>\n",
       "      <td>0</td>\n",
       "      <td>1</td>\n",
       "      <td>0</td>\n",
       "      <td>0</td>\n",
       "      <td>BRICK KILN CLOSE</td>\n",
       "      <td>COGGESHALL</td>\n",
       "      <td>COLCHESTER</td>\n",
       "      <td>BRAINTREE</td>\n",
       "      <td>ESSEX</td>\n",
       "    </tr>\n",
       "    <tr>\n",
       "      <th>2</th>\n",
       "      <td>1995</td>\n",
       "      <td>July</td>\n",
       "      <td>58000</td>\n",
       "      <td>N</td>\n",
       "      <td>0</td>\n",
       "      <td>0</td>\n",
       "      <td>1</td>\n",
       "      <td>0</td>\n",
       "      <td>0</td>\n",
       "      <td>RAINSBROOK DRIVE</td>\n",
       "      <td>SHIRLEY</td>\n",
       "      <td>SOLIHULL</td>\n",
       "      <td>SOLIHULL</td>\n",
       "      <td>WEST MIDLANDS</td>\n",
       "    </tr>\n",
       "    <tr>\n",
       "      <th>3</th>\n",
       "      <td>1995</td>\n",
       "      <td>June</td>\n",
       "      <td>51000</td>\n",
       "      <td>N</td>\n",
       "      <td>0</td>\n",
       "      <td>1</td>\n",
       "      <td>0</td>\n",
       "      <td>0</td>\n",
       "      <td>0</td>\n",
       "      <td>MERRY HILL</td>\n",
       "      <td>BRIERLEY HILL</td>\n",
       "      <td>BRIERLEY HILL</td>\n",
       "      <td>DUDLEY</td>\n",
       "      <td>WEST MIDLANDS</td>\n",
       "    </tr>\n",
       "    <tr>\n",
       "      <th>4</th>\n",
       "      <td>1995</td>\n",
       "      <td>March</td>\n",
       "      <td>17000</td>\n",
       "      <td>N</td>\n",
       "      <td>0</td>\n",
       "      <td>0</td>\n",
       "      <td>1</td>\n",
       "      <td>0</td>\n",
       "      <td>0</td>\n",
       "      <td>DENMAN STREET</td>\n",
       "      <td>ROTHERHAM</td>\n",
       "      <td>ROTHERHAM</td>\n",
       "      <td>ROTHERHAM</td>\n",
       "      <td>SOUTH YORKSHIRE</td>\n",
       "    </tr>\n",
       "  </tbody>\n",
       "</table>\n",
       "</div>"
      ],
      "text/plain": [
       "   Year     Month  price Old/New  Detached  Semi-detached  Terraced  Flat  \\\n",
       "0  1995  February  44500       N         0              0         1     0   \n",
       "1  1995   January  56500       N         0              0         1     0   \n",
       "2  1995      July  58000       N         0              0         1     0   \n",
       "3  1995      June  51000       N         0              1         0     0   \n",
       "4  1995     March  17000       N         0              0         1     0   \n",
       "\n",
       "   Others            Street       Locality      Town/City    District  \\\n",
       "0       0       HOWICK PARK     SUNDERLAND     SUNDERLAND  SUNDERLAND   \n",
       "1       0  BRICK KILN CLOSE     COGGESHALL     COLCHESTER   BRAINTREE   \n",
       "2       0  RAINSBROOK DRIVE        SHIRLEY       SOLIHULL    SOLIHULL   \n",
       "3       0        MERRY HILL  BRIERLEY HILL  BRIERLEY HILL      DUDLEY   \n",
       "4       0     DENMAN STREET      ROTHERHAM      ROTHERHAM   ROTHERHAM   \n",
       "\n",
       "            County  \n",
       "0    TYNE AND WEAR  \n",
       "1            ESSEX  \n",
       "2    WEST MIDLANDS  \n",
       "3    WEST MIDLANDS  \n",
       "4  SOUTH YORKSHIRE  "
      ]
     },
     "execution_count": 3,
     "metadata": {},
     "output_type": "execute_result"
    }
   ],
   "source": [
    "df.head()"
   ]
  },
  {
   "cell_type": "code",
   "execution_count": 4,
   "id": "18bcc126",
   "metadata": {},
   "outputs": [],
   "source": [
    "# Combining Year and Month for date column\n",
    "df['Date'] = pd.to_datetime(df['Year'].astype(str) + '-' + df['Month'].astype(str))\n",
    "df.drop(['Year', 'Month'], axis=1, inplace=True)"
   ]
  },
  {
   "cell_type": "code",
   "execution_count": 5,
   "id": "9a1480dd",
   "metadata": {},
   "outputs": [],
   "source": [
    "df.set_index('Date', inplace=True)"
   ]
  },
  {
   "cell_type": "code",
   "execution_count": 6,
   "id": "765ff426",
   "metadata": {},
   "outputs": [],
   "source": [
    "#df2 = df.head()"
   ]
  },
  {
   "cell_type": "code",
   "execution_count": 7,
   "id": "da00a37c",
   "metadata": {},
   "outputs": [
    {
     "data": {
      "text/html": [
       "<div>\n",
       "<style scoped>\n",
       "    .dataframe tbody tr th:only-of-type {\n",
       "        vertical-align: middle;\n",
       "    }\n",
       "\n",
       "    .dataframe tbody tr th {\n",
       "        vertical-align: top;\n",
       "    }\n",
       "\n",
       "    .dataframe thead th {\n",
       "        text-align: right;\n",
       "    }\n",
       "</style>\n",
       "<table border=\"1\" class=\"dataframe\">\n",
       "  <thead>\n",
       "    <tr style=\"text-align: right;\">\n",
       "      <th></th>\n",
       "      <th>price</th>\n",
       "      <th>Old/New</th>\n",
       "      <th>Detached</th>\n",
       "      <th>Semi-detached</th>\n",
       "      <th>Terraced</th>\n",
       "      <th>Flat</th>\n",
       "      <th>Others</th>\n",
       "      <th>Street</th>\n",
       "      <th>Locality</th>\n",
       "      <th>Town/City</th>\n",
       "      <th>District</th>\n",
       "      <th>County</th>\n",
       "    </tr>\n",
       "    <tr>\n",
       "      <th>Date</th>\n",
       "      <th></th>\n",
       "      <th></th>\n",
       "      <th></th>\n",
       "      <th></th>\n",
       "      <th></th>\n",
       "      <th></th>\n",
       "      <th></th>\n",
       "      <th></th>\n",
       "      <th></th>\n",
       "      <th></th>\n",
       "      <th></th>\n",
       "      <th></th>\n",
       "    </tr>\n",
       "  </thead>\n",
       "  <tbody>\n",
       "    <tr>\n",
       "      <th>1995-02-01</th>\n",
       "      <td>44500</td>\n",
       "      <td>N</td>\n",
       "      <td>0</td>\n",
       "      <td>0</td>\n",
       "      <td>1</td>\n",
       "      <td>0</td>\n",
       "      <td>0</td>\n",
       "      <td>HOWICK PARK</td>\n",
       "      <td>SUNDERLAND</td>\n",
       "      <td>SUNDERLAND</td>\n",
       "      <td>SUNDERLAND</td>\n",
       "      <td>TYNE AND WEAR</td>\n",
       "    </tr>\n",
       "    <tr>\n",
       "      <th>1995-01-01</th>\n",
       "      <td>56500</td>\n",
       "      <td>N</td>\n",
       "      <td>0</td>\n",
       "      <td>0</td>\n",
       "      <td>1</td>\n",
       "      <td>0</td>\n",
       "      <td>0</td>\n",
       "      <td>BRICK KILN CLOSE</td>\n",
       "      <td>COGGESHALL</td>\n",
       "      <td>COLCHESTER</td>\n",
       "      <td>BRAINTREE</td>\n",
       "      <td>ESSEX</td>\n",
       "    </tr>\n",
       "    <tr>\n",
       "      <th>1995-07-01</th>\n",
       "      <td>58000</td>\n",
       "      <td>N</td>\n",
       "      <td>0</td>\n",
       "      <td>0</td>\n",
       "      <td>1</td>\n",
       "      <td>0</td>\n",
       "      <td>0</td>\n",
       "      <td>RAINSBROOK DRIVE</td>\n",
       "      <td>SHIRLEY</td>\n",
       "      <td>SOLIHULL</td>\n",
       "      <td>SOLIHULL</td>\n",
       "      <td>WEST MIDLANDS</td>\n",
       "    </tr>\n",
       "    <tr>\n",
       "      <th>1995-06-01</th>\n",
       "      <td>51000</td>\n",
       "      <td>N</td>\n",
       "      <td>0</td>\n",
       "      <td>1</td>\n",
       "      <td>0</td>\n",
       "      <td>0</td>\n",
       "      <td>0</td>\n",
       "      <td>MERRY HILL</td>\n",
       "      <td>BRIERLEY HILL</td>\n",
       "      <td>BRIERLEY HILL</td>\n",
       "      <td>DUDLEY</td>\n",
       "      <td>WEST MIDLANDS</td>\n",
       "    </tr>\n",
       "    <tr>\n",
       "      <th>1995-03-01</th>\n",
       "      <td>17000</td>\n",
       "      <td>N</td>\n",
       "      <td>0</td>\n",
       "      <td>0</td>\n",
       "      <td>1</td>\n",
       "      <td>0</td>\n",
       "      <td>0</td>\n",
       "      <td>DENMAN STREET</td>\n",
       "      <td>ROTHERHAM</td>\n",
       "      <td>ROTHERHAM</td>\n",
       "      <td>ROTHERHAM</td>\n",
       "      <td>SOUTH YORKSHIRE</td>\n",
       "    </tr>\n",
       "  </tbody>\n",
       "</table>\n",
       "</div>"
      ],
      "text/plain": [
       "            price Old/New  Detached  Semi-detached  Terraced  Flat  Others  \\\n",
       "Date                                                                         \n",
       "1995-02-01  44500       N         0              0         1     0       0   \n",
       "1995-01-01  56500       N         0              0         1     0       0   \n",
       "1995-07-01  58000       N         0              0         1     0       0   \n",
       "1995-06-01  51000       N         0              1         0     0       0   \n",
       "1995-03-01  17000       N         0              0         1     0       0   \n",
       "\n",
       "                      Street       Locality      Town/City    District  \\\n",
       "Date                                                                     \n",
       "1995-02-01       HOWICK PARK     SUNDERLAND     SUNDERLAND  SUNDERLAND   \n",
       "1995-01-01  BRICK KILN CLOSE     COGGESHALL     COLCHESTER   BRAINTREE   \n",
       "1995-07-01  RAINSBROOK DRIVE        SHIRLEY       SOLIHULL    SOLIHULL   \n",
       "1995-06-01        MERRY HILL  BRIERLEY HILL  BRIERLEY HILL      DUDLEY   \n",
       "1995-03-01     DENMAN STREET      ROTHERHAM      ROTHERHAM   ROTHERHAM   \n",
       "\n",
       "                     County  \n",
       "Date                         \n",
       "1995-02-01    TYNE AND WEAR  \n",
       "1995-01-01            ESSEX  \n",
       "1995-07-01    WEST MIDLANDS  \n",
       "1995-06-01    WEST MIDLANDS  \n",
       "1995-03-01  SOUTH YORKSHIRE  "
      ]
     },
     "execution_count": 7,
     "metadata": {},
     "output_type": "execute_result"
    }
   ],
   "source": [
    "df.head()"
   ]
  },
  {
   "cell_type": "code",
   "execution_count": null,
   "id": "1d8a2b2c",
   "metadata": {},
   "outputs": [],
   "source": []
  },
  {
   "cell_type": "code",
   "execution_count": 40,
   "id": "da19b538",
   "metadata": {
    "scrolled": false
   },
   "outputs": [],
   "source": [
    "ts_detached = df[['Detached']]"
   ]
  },
  {
   "cell_type": "code",
   "execution_count": 41,
   "id": "a8eae947",
   "metadata": {},
   "outputs": [
    {
     "data": {
      "text/html": [
       "<div>\n",
       "<style scoped>\n",
       "    .dataframe tbody tr th:only-of-type {\n",
       "        vertical-align: middle;\n",
       "    }\n",
       "\n",
       "    .dataframe tbody tr th {\n",
       "        vertical-align: top;\n",
       "    }\n",
       "\n",
       "    .dataframe thead th {\n",
       "        text-align: right;\n",
       "    }\n",
       "</style>\n",
       "<table border=\"1\" class=\"dataframe\">\n",
       "  <thead>\n",
       "    <tr style=\"text-align: right;\">\n",
       "      <th></th>\n",
       "      <th>Detached</th>\n",
       "    </tr>\n",
       "    <tr>\n",
       "      <th>Date</th>\n",
       "      <th></th>\n",
       "    </tr>\n",
       "  </thead>\n",
       "  <tbody>\n",
       "    <tr>\n",
       "      <th>1995-02-01</th>\n",
       "      <td>0</td>\n",
       "    </tr>\n",
       "    <tr>\n",
       "      <th>1995-01-01</th>\n",
       "      <td>0</td>\n",
       "    </tr>\n",
       "    <tr>\n",
       "      <th>1995-07-01</th>\n",
       "      <td>0</td>\n",
       "    </tr>\n",
       "    <tr>\n",
       "      <th>1995-06-01</th>\n",
       "      <td>0</td>\n",
       "    </tr>\n",
       "    <tr>\n",
       "      <th>1995-03-01</th>\n",
       "      <td>0</td>\n",
       "    </tr>\n",
       "  </tbody>\n",
       "</table>\n",
       "</div>"
      ],
      "text/plain": [
       "            Detached\n",
       "Date                \n",
       "1995-02-01         0\n",
       "1995-01-01         0\n",
       "1995-07-01         0\n",
       "1995-06-01         0\n",
       "1995-03-01         0"
      ]
     },
     "execution_count": 41,
     "metadata": {},
     "output_type": "execute_result"
    }
   ],
   "source": [
    "ts_detached.head()"
   ]
  },
  {
   "cell_type": "code",
   "execution_count": 42,
   "id": "eea2d7c5",
   "metadata": {},
   "outputs": [],
   "source": [
    "# Resample by month with sum aggreagation on 'Detached' column\n",
    "df_resampled = df.resample('M')['Detached'].sum()"
   ]
  },
  {
   "cell_type": "code",
   "execution_count": 43,
   "id": "7e91d21a",
   "metadata": {},
   "outputs": [],
   "source": [
    "ts_detached = pd.DataFrame(df_resampled)"
   ]
  },
  {
   "cell_type": "code",
   "execution_count": 44,
   "id": "45762026",
   "metadata": {
    "scrolled": false
   },
   "outputs": [
    {
     "data": {
      "text/html": [
       "<div>\n",
       "<style scoped>\n",
       "    .dataframe tbody tr th:only-of-type {\n",
       "        vertical-align: middle;\n",
       "    }\n",
       "\n",
       "    .dataframe tbody tr th {\n",
       "        vertical-align: top;\n",
       "    }\n",
       "\n",
       "    .dataframe thead th {\n",
       "        text-align: right;\n",
       "    }\n",
       "</style>\n",
       "<table border=\"1\" class=\"dataframe\">\n",
       "  <thead>\n",
       "    <tr style=\"text-align: right;\">\n",
       "      <th></th>\n",
       "      <th>Detached</th>\n",
       "    </tr>\n",
       "    <tr>\n",
       "      <th>Date</th>\n",
       "      <th></th>\n",
       "    </tr>\n",
       "  </thead>\n",
       "  <tbody>\n",
       "    <tr>\n",
       "      <th>1995-01-31</th>\n",
       "      <td>9473</td>\n",
       "    </tr>\n",
       "    <tr>\n",
       "      <th>1995-02-28</th>\n",
       "      <td>9667</td>\n",
       "    </tr>\n",
       "    <tr>\n",
       "      <th>1995-03-31</th>\n",
       "      <td>13431</td>\n",
       "    </tr>\n",
       "    <tr>\n",
       "      <th>1995-04-30</th>\n",
       "      <td>11929</td>\n",
       "    </tr>\n",
       "    <tr>\n",
       "      <th>1995-05-31</th>\n",
       "      <td>13169</td>\n",
       "    </tr>\n",
       "  </tbody>\n",
       "</table>\n",
       "</div>"
      ],
      "text/plain": [
       "            Detached\n",
       "Date                \n",
       "1995-01-31      9473\n",
       "1995-02-28      9667\n",
       "1995-03-31     13431\n",
       "1995-04-30     11929\n",
       "1995-05-31     13169"
      ]
     },
     "execution_count": 44,
     "metadata": {},
     "output_type": "execute_result"
    }
   ],
   "source": [
    "ts_detached.head()"
   ]
  },
  {
   "cell_type": "code",
   "execution_count": 45,
   "id": "d66d14c8",
   "metadata": {},
   "outputs": [],
   "source": [
    "ts_detached.to_csv('ts_detached.csv')"
   ]
  },
  {
   "cell_type": "code",
   "execution_count": null,
   "id": "da3ea8b9",
   "metadata": {},
   "outputs": [],
   "source": [
    "#FOR SEMI-DETACHED"
   ]
  },
  {
   "cell_type": "code",
   "execution_count": 8,
   "id": "0fac992f",
   "metadata": {},
   "outputs": [],
   "source": [
    "ts_sdetached = df[['Semi-detached']]"
   ]
  },
  {
   "cell_type": "code",
   "execution_count": 9,
   "id": "45fec07b",
   "metadata": {},
   "outputs": [
    {
     "data": {
      "text/html": [
       "<div>\n",
       "<style scoped>\n",
       "    .dataframe tbody tr th:only-of-type {\n",
       "        vertical-align: middle;\n",
       "    }\n",
       "\n",
       "    .dataframe tbody tr th {\n",
       "        vertical-align: top;\n",
       "    }\n",
       "\n",
       "    .dataframe thead th {\n",
       "        text-align: right;\n",
       "    }\n",
       "</style>\n",
       "<table border=\"1\" class=\"dataframe\">\n",
       "  <thead>\n",
       "    <tr style=\"text-align: right;\">\n",
       "      <th></th>\n",
       "      <th>Semi-detached</th>\n",
       "    </tr>\n",
       "    <tr>\n",
       "      <th>Date</th>\n",
       "      <th></th>\n",
       "    </tr>\n",
       "  </thead>\n",
       "  <tbody>\n",
       "    <tr>\n",
       "      <th>1995-02-01</th>\n",
       "      <td>0</td>\n",
       "    </tr>\n",
       "    <tr>\n",
       "      <th>1995-01-01</th>\n",
       "      <td>0</td>\n",
       "    </tr>\n",
       "    <tr>\n",
       "      <th>1995-07-01</th>\n",
       "      <td>0</td>\n",
       "    </tr>\n",
       "    <tr>\n",
       "      <th>1995-06-01</th>\n",
       "      <td>1</td>\n",
       "    </tr>\n",
       "    <tr>\n",
       "      <th>1995-03-01</th>\n",
       "      <td>0</td>\n",
       "    </tr>\n",
       "  </tbody>\n",
       "</table>\n",
       "</div>"
      ],
      "text/plain": [
       "            Semi-detached\n",
       "Date                     \n",
       "1995-02-01              0\n",
       "1995-01-01              0\n",
       "1995-07-01              0\n",
       "1995-06-01              1\n",
       "1995-03-01              0"
      ]
     },
     "execution_count": 9,
     "metadata": {},
     "output_type": "execute_result"
    }
   ],
   "source": [
    "ts_sdetached.head()"
   ]
  },
  {
   "cell_type": "code",
   "execution_count": 10,
   "id": "9b9a7b53",
   "metadata": {},
   "outputs": [],
   "source": [
    "# Resample by month with sum aggreagation on 'Detached' column\n",
    "df_resampled = df.resample('M')['Semi-detached'].sum()"
   ]
  },
  {
   "cell_type": "code",
   "execution_count": 11,
   "id": "c873acbd",
   "metadata": {},
   "outputs": [],
   "source": [
    "ts_sdetached = pd.DataFrame(df_resampled)"
   ]
  },
  {
   "cell_type": "code",
   "execution_count": 12,
   "id": "5eaaca7e",
   "metadata": {},
   "outputs": [
    {
     "data": {
      "text/html": [
       "<div>\n",
       "<style scoped>\n",
       "    .dataframe tbody tr th:only-of-type {\n",
       "        vertical-align: middle;\n",
       "    }\n",
       "\n",
       "    .dataframe tbody tr th {\n",
       "        vertical-align: top;\n",
       "    }\n",
       "\n",
       "    .dataframe thead th {\n",
       "        text-align: right;\n",
       "    }\n",
       "</style>\n",
       "<table border=\"1\" class=\"dataframe\">\n",
       "  <thead>\n",
       "    <tr style=\"text-align: right;\">\n",
       "      <th></th>\n",
       "      <th>Semi-detached</th>\n",
       "    </tr>\n",
       "    <tr>\n",
       "      <th>Date</th>\n",
       "      <th></th>\n",
       "    </tr>\n",
       "  </thead>\n",
       "  <tbody>\n",
       "    <tr>\n",
       "      <th>1995-01-31</th>\n",
       "      <td>12952</td>\n",
       "    </tr>\n",
       "    <tr>\n",
       "      <th>1995-02-28</th>\n",
       "      <td>12989</td>\n",
       "    </tr>\n",
       "    <tr>\n",
       "      <th>1995-03-31</th>\n",
       "      <td>18219</td>\n",
       "    </tr>\n",
       "    <tr>\n",
       "      <th>1995-04-30</th>\n",
       "      <td>15159</td>\n",
       "    </tr>\n",
       "    <tr>\n",
       "      <th>1995-05-31</th>\n",
       "      <td>17353</td>\n",
       "    </tr>\n",
       "    <tr>\n",
       "      <th>...</th>\n",
       "      <td>...</td>\n",
       "    </tr>\n",
       "    <tr>\n",
       "      <th>2023-07-31</th>\n",
       "      <td>10661</td>\n",
       "    </tr>\n",
       "    <tr>\n",
       "      <th>2023-08-31</th>\n",
       "      <td>11280</td>\n",
       "    </tr>\n",
       "    <tr>\n",
       "      <th>2023-09-30</th>\n",
       "      <td>8327</td>\n",
       "    </tr>\n",
       "    <tr>\n",
       "      <th>2023-10-31</th>\n",
       "      <td>3381</td>\n",
       "    </tr>\n",
       "    <tr>\n",
       "      <th>2023-11-30</th>\n",
       "      <td>1456</td>\n",
       "    </tr>\n",
       "  </tbody>\n",
       "</table>\n",
       "<p>347 rows × 1 columns</p>\n",
       "</div>"
      ],
      "text/plain": [
       "            Semi-detached\n",
       "Date                     \n",
       "1995-01-31          12952\n",
       "1995-02-28          12989\n",
       "1995-03-31          18219\n",
       "1995-04-30          15159\n",
       "1995-05-31          17353\n",
       "...                   ...\n",
       "2023-07-31          10661\n",
       "2023-08-31          11280\n",
       "2023-09-30           8327\n",
       "2023-10-31           3381\n",
       "2023-11-30           1456\n",
       "\n",
       "[347 rows x 1 columns]"
      ]
     },
     "execution_count": 12,
     "metadata": {},
     "output_type": "execute_result"
    }
   ],
   "source": [
    "ts_sdetached"
   ]
  },
  {
   "cell_type": "code",
   "execution_count": 13,
   "id": "560cfe27",
   "metadata": {},
   "outputs": [],
   "source": [
    "ts_sdetached.to_csv('ts_sdetached.csv')"
   ]
  },
  {
   "cell_type": "code",
   "execution_count": null,
   "id": "2357695d",
   "metadata": {},
   "outputs": [],
   "source": [
    "#FOR TERRACED"
   ]
  },
  {
   "cell_type": "code",
   "execution_count": 14,
   "id": "0739ae9c",
   "metadata": {},
   "outputs": [],
   "source": [
    "ts_terraced = df[['Terraced']]"
   ]
  },
  {
   "cell_type": "code",
   "execution_count": 16,
   "id": "bdc891b6",
   "metadata": {},
   "outputs": [
    {
     "data": {
      "text/html": [
       "<div>\n",
       "<style scoped>\n",
       "    .dataframe tbody tr th:only-of-type {\n",
       "        vertical-align: middle;\n",
       "    }\n",
       "\n",
       "    .dataframe tbody tr th {\n",
       "        vertical-align: top;\n",
       "    }\n",
       "\n",
       "    .dataframe thead th {\n",
       "        text-align: right;\n",
       "    }\n",
       "</style>\n",
       "<table border=\"1\" class=\"dataframe\">\n",
       "  <thead>\n",
       "    <tr style=\"text-align: right;\">\n",
       "      <th></th>\n",
       "      <th>Terraced</th>\n",
       "    </tr>\n",
       "    <tr>\n",
       "      <th>Date</th>\n",
       "      <th></th>\n",
       "    </tr>\n",
       "  </thead>\n",
       "  <tbody>\n",
       "    <tr>\n",
       "      <th>1995-02-01</th>\n",
       "      <td>1</td>\n",
       "    </tr>\n",
       "    <tr>\n",
       "      <th>1995-01-01</th>\n",
       "      <td>1</td>\n",
       "    </tr>\n",
       "    <tr>\n",
       "      <th>1995-07-01</th>\n",
       "      <td>1</td>\n",
       "    </tr>\n",
       "    <tr>\n",
       "      <th>1995-06-01</th>\n",
       "      <td>0</td>\n",
       "    </tr>\n",
       "    <tr>\n",
       "      <th>1995-03-01</th>\n",
       "      <td>1</td>\n",
       "    </tr>\n",
       "  </tbody>\n",
       "</table>\n",
       "</div>"
      ],
      "text/plain": [
       "            Terraced\n",
       "Date                \n",
       "1995-02-01         1\n",
       "1995-01-01         1\n",
       "1995-07-01         1\n",
       "1995-06-01         0\n",
       "1995-03-01         1"
      ]
     },
     "execution_count": 16,
     "metadata": {},
     "output_type": "execute_result"
    }
   ],
   "source": [
    "ts_terraced.head()"
   ]
  },
  {
   "cell_type": "code",
   "execution_count": 17,
   "id": "7627542f",
   "metadata": {},
   "outputs": [],
   "source": [
    "# Resample by month with sum aggreagation on 'Detached' column\n",
    "df_resampled = df.resample('M')['Terraced'].sum()"
   ]
  },
  {
   "cell_type": "code",
   "execution_count": 18,
   "id": "c7441eb9",
   "metadata": {},
   "outputs": [],
   "source": [
    "ts_terraced = pd.DataFrame(df_resampled)"
   ]
  },
  {
   "cell_type": "code",
   "execution_count": 19,
   "id": "d9774615",
   "metadata": {},
   "outputs": [
    {
     "data": {
      "text/html": [
       "<div>\n",
       "<style scoped>\n",
       "    .dataframe tbody tr th:only-of-type {\n",
       "        vertical-align: middle;\n",
       "    }\n",
       "\n",
       "    .dataframe tbody tr th {\n",
       "        vertical-align: top;\n",
       "    }\n",
       "\n",
       "    .dataframe thead th {\n",
       "        text-align: right;\n",
       "    }\n",
       "</style>\n",
       "<table border=\"1\" class=\"dataframe\">\n",
       "  <thead>\n",
       "    <tr style=\"text-align: right;\">\n",
       "      <th></th>\n",
       "      <th>Terraced</th>\n",
       "    </tr>\n",
       "    <tr>\n",
       "      <th>Date</th>\n",
       "      <th></th>\n",
       "    </tr>\n",
       "  </thead>\n",
       "  <tbody>\n",
       "    <tr>\n",
       "      <th>1995-01-31</th>\n",
       "      <td>13426</td>\n",
       "    </tr>\n",
       "    <tr>\n",
       "      <th>1995-02-28</th>\n",
       "      <td>13323</td>\n",
       "    </tr>\n",
       "    <tr>\n",
       "      <th>1995-03-31</th>\n",
       "      <td>18688</td>\n",
       "    </tr>\n",
       "    <tr>\n",
       "      <th>1995-04-30</th>\n",
       "      <td>15579</td>\n",
       "    </tr>\n",
       "    <tr>\n",
       "      <th>1995-05-31</th>\n",
       "      <td>17676</td>\n",
       "    </tr>\n",
       "  </tbody>\n",
       "</table>\n",
       "</div>"
      ],
      "text/plain": [
       "            Terraced\n",
       "Date                \n",
       "1995-01-31     13426\n",
       "1995-02-28     13323\n",
       "1995-03-31     18688\n",
       "1995-04-30     15579\n",
       "1995-05-31     17676"
      ]
     },
     "execution_count": 19,
     "metadata": {},
     "output_type": "execute_result"
    }
   ],
   "source": [
    "ts_terraced.head()"
   ]
  },
  {
   "cell_type": "code",
   "execution_count": 20,
   "id": "7e351c2a",
   "metadata": {},
   "outputs": [],
   "source": [
    "ts_terraced.to_csv('ts_terracced.csv')"
   ]
  },
  {
   "cell_type": "code",
   "execution_count": null,
   "id": "d3a2eb0f",
   "metadata": {},
   "outputs": [],
   "source": []
  },
  {
   "cell_type": "code",
   "execution_count": 40,
   "id": "20420c78",
   "metadata": {},
   "outputs": [],
   "source": [
    "# FOR FLATS"
   ]
  },
  {
   "cell_type": "code",
   "execution_count": 55,
   "id": "65fe01ec",
   "metadata": {},
   "outputs": [],
   "source": [
    "ts_flat = df[['Flat']]"
   ]
  },
  {
   "cell_type": "code",
   "execution_count": 56,
   "id": "c60b78fc",
   "metadata": {},
   "outputs": [],
   "source": [
    "# Resample by month with sum aggreagation on 'Detached' column\n",
    "df_resampled = df.resample('M')['Flat'].sum()\n",
    "\n",
    "ts_flat = pd.DataFrame(df_resampled)"
   ]
  },
  {
   "cell_type": "code",
   "execution_count": 57,
   "id": "8abba533",
   "metadata": {},
   "outputs": [],
   "source": [
    "ts_flat.to_csv('ts_flats.csv')"
   ]
  },
  {
   "cell_type": "code",
   "execution_count": null,
   "id": "285094b5",
   "metadata": {},
   "outputs": [],
   "source": []
  },
  {
   "cell_type": "code",
   "execution_count": 43,
   "id": "ab788651",
   "metadata": {},
   "outputs": [],
   "source": [
    "# FOR OTHERS"
   ]
  },
  {
   "cell_type": "code",
   "execution_count": 21,
   "id": "c845ef14",
   "metadata": {},
   "outputs": [],
   "source": [
    "ts_others = df[['Others']]"
   ]
  },
  {
   "cell_type": "code",
   "execution_count": 23,
   "id": "1e293e16",
   "metadata": {},
   "outputs": [
    {
     "data": {
      "text/html": [
       "<div>\n",
       "<style scoped>\n",
       "    .dataframe tbody tr th:only-of-type {\n",
       "        vertical-align: middle;\n",
       "    }\n",
       "\n",
       "    .dataframe tbody tr th {\n",
       "        vertical-align: top;\n",
       "    }\n",
       "\n",
       "    .dataframe thead th {\n",
       "        text-align: right;\n",
       "    }\n",
       "</style>\n",
       "<table border=\"1\" class=\"dataframe\">\n",
       "  <thead>\n",
       "    <tr style=\"text-align: right;\">\n",
       "      <th></th>\n",
       "      <th>Others</th>\n",
       "    </tr>\n",
       "    <tr>\n",
       "      <th>Date</th>\n",
       "      <th></th>\n",
       "    </tr>\n",
       "  </thead>\n",
       "  <tbody>\n",
       "    <tr>\n",
       "      <th>1995-02-01</th>\n",
       "      <td>0</td>\n",
       "    </tr>\n",
       "    <tr>\n",
       "      <th>1995-01-01</th>\n",
       "      <td>0</td>\n",
       "    </tr>\n",
       "    <tr>\n",
       "      <th>1995-07-01</th>\n",
       "      <td>0</td>\n",
       "    </tr>\n",
       "    <tr>\n",
       "      <th>1995-06-01</th>\n",
       "      <td>0</td>\n",
       "    </tr>\n",
       "    <tr>\n",
       "      <th>1995-03-01</th>\n",
       "      <td>0</td>\n",
       "    </tr>\n",
       "  </tbody>\n",
       "</table>\n",
       "</div>"
      ],
      "text/plain": [
       "            Others\n",
       "Date              \n",
       "1995-02-01       0\n",
       "1995-01-01       0\n",
       "1995-07-01       0\n",
       "1995-06-01       0\n",
       "1995-03-01       0"
      ]
     },
     "execution_count": 23,
     "metadata": {},
     "output_type": "execute_result"
    }
   ],
   "source": [
    "ts_others.head()"
   ]
  },
  {
   "cell_type": "code",
   "execution_count": 24,
   "id": "c09178eb",
   "metadata": {},
   "outputs": [],
   "source": [
    "# Resample by month with sum aggreagation on 'Detached' column\n",
    "df_resampled = df.resample('M')['Others'].sum()"
   ]
  },
  {
   "cell_type": "code",
   "execution_count": 26,
   "id": "c3b711c8",
   "metadata": {},
   "outputs": [],
   "source": [
    "ts_others = pd.DataFrame(df_resampled)"
   ]
  },
  {
   "cell_type": "code",
   "execution_count": 28,
   "id": "4e8b40ae",
   "metadata": {},
   "outputs": [
    {
     "data": {
      "text/html": [
       "<div>\n",
       "<style scoped>\n",
       "    .dataframe tbody tr th:only-of-type {\n",
       "        vertical-align: middle;\n",
       "    }\n",
       "\n",
       "    .dataframe tbody tr th {\n",
       "        vertical-align: top;\n",
       "    }\n",
       "\n",
       "    .dataframe thead th {\n",
       "        text-align: right;\n",
       "    }\n",
       "</style>\n",
       "<table border=\"1\" class=\"dataframe\">\n",
       "  <thead>\n",
       "    <tr style=\"text-align: right;\">\n",
       "      <th></th>\n",
       "      <th>Others</th>\n",
       "    </tr>\n",
       "    <tr>\n",
       "      <th>Date</th>\n",
       "      <th></th>\n",
       "    </tr>\n",
       "  </thead>\n",
       "  <tbody>\n",
       "    <tr>\n",
       "      <th>1995-01-31</th>\n",
       "      <td>1</td>\n",
       "    </tr>\n",
       "    <tr>\n",
       "      <th>1995-02-28</th>\n",
       "      <td>0</td>\n",
       "    </tr>\n",
       "    <tr>\n",
       "      <th>1995-03-31</th>\n",
       "      <td>0</td>\n",
       "    </tr>\n",
       "    <tr>\n",
       "      <th>1995-04-30</th>\n",
       "      <td>0</td>\n",
       "    </tr>\n",
       "    <tr>\n",
       "      <th>1995-05-31</th>\n",
       "      <td>1</td>\n",
       "    </tr>\n",
       "  </tbody>\n",
       "</table>\n",
       "</div>"
      ],
      "text/plain": [
       "            Others\n",
       "Date              \n",
       "1995-01-31       1\n",
       "1995-02-28       0\n",
       "1995-03-31       0\n",
       "1995-04-30       0\n",
       "1995-05-31       1"
      ]
     },
     "execution_count": 28,
     "metadata": {},
     "output_type": "execute_result"
    }
   ],
   "source": [
    "ts_others.head()"
   ]
  },
  {
   "cell_type": "code",
   "execution_count": 29,
   "id": "4a984535",
   "metadata": {},
   "outputs": [],
   "source": [
    "ts_others.to_csv('ts_others.csv')"
   ]
  },
  {
   "cell_type": "code",
   "execution_count": null,
   "id": "348a14c7",
   "metadata": {},
   "outputs": [],
   "source": []
  }
 ],
 "metadata": {
  "kernelspec": {
   "display_name": "Python 3 (ipykernel)",
   "language": "python",
   "name": "python3"
  },
  "language_info": {
   "codemirror_mode": {
    "name": "ipython",
    "version": 3
   },
   "file_extension": ".py",
   "mimetype": "text/x-python",
   "name": "python",
   "nbconvert_exporter": "python",
   "pygments_lexer": "ipython3",
   "version": "3.11.4"
  }
 },
 "nbformat": 4,
 "nbformat_minor": 5
}
