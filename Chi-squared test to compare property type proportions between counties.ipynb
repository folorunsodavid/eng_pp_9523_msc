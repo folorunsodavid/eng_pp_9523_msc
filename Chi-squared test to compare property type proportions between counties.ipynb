{
 "cells": [
  {
   "cell_type": "code",
   "execution_count": 1,
   "id": "59d3cd7d",
   "metadata": {},
   "outputs": [],
   "source": [
    "import pandas as pd\n",
    "from scipy.stats import chi2_contingency"
   ]
  },
  {
   "cell_type": "code",
   "execution_count": 2,
   "id": "29744dc7",
   "metadata": {},
   "outputs": [],
   "source": [
    "df = pd.read_csv(\"eng_pp_9523_eda_pivoted.csv\")"
   ]
  },
  {
   "cell_type": "code",
   "execution_count": 3,
   "id": "16a80481",
   "metadata": {},
   "outputs": [],
   "source": [
    "# Group data by county and calculate the proportion of each property type\n",
    "county_prop_types = df.groupby('County')[['Detached', 'Semi-detached', 'Terraced', 'Flat', 'Others']].sum()\n",
    "county_prop_types = county_prop_types.div(county_prop_types.sum(axis=1), axis=0) * 100"
   ]
  },
  {
   "cell_type": "code",
   "execution_count": 4,
   "id": "18441d1c",
   "metadata": {},
   "outputs": [
    {
     "name": "stdout",
     "output_type": "stream",
     "text": [
      "Chi-squared statistic: 467.0548393329135\n",
      "p-value: 2.2453759108171707e-27\n",
      "Degrees of freedom: 180\n"
     ]
    }
   ],
   "source": [
    "# Chi-squared test to compare property type proportions between counties\n",
    "chi2, pval, degrees_of_freedom, expected_counts = chi2_contingency(county_prop_types)\n",
    "\n",
    "# Print the chi-squared statistic, p-value, and degrees of freedom\n",
    "print(\"Chi-squared statistic:\", chi2)\n",
    "print(\"p-value:\", pval)\n",
    "print(\"Degrees of freedom:\", degrees_of_freedom)"
   ]
  },
  {
   "cell_type": "code",
   "execution_count": null,
   "id": "b4be70fe",
   "metadata": {},
   "outputs": [],
   "source": [
    "# Interpretation:\n",
    "# - If the p-value is less than a significance level (e.g., 0.05), we reject the null hypothesis that the property type proportions are the same across counties.\n",
    "# - This suggests that there are statistically significant differences in property type preferences between counties."
   ]
  }
 ],
 "metadata": {
  "kernelspec": {
   "display_name": "Python 3 (ipykernel)",
   "language": "python",
   "name": "python3"
  },
  "language_info": {
   "codemirror_mode": {
    "name": "ipython",
    "version": 3
   },
   "file_extension": ".py",
   "mimetype": "text/x-python",
   "name": "python",
   "nbconvert_exporter": "python",
   "pygments_lexer": "ipython3",
   "version": "3.11.4"
  }
 },
 "nbformat": 4,
 "nbformat_minor": 5
}
