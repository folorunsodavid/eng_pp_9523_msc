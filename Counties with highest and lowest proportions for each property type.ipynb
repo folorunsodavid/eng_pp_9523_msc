{
 "cells": [
  {
   "cell_type": "code",
   "execution_count": 1,
   "id": "4fad2ed4",
   "metadata": {},
   "outputs": [],
   "source": [
    "import pandas as pd"
   ]
  },
  {
   "cell_type": "code",
   "execution_count": 2,
   "id": "ea81c66e",
   "metadata": {},
   "outputs": [],
   "source": [
    "df = pd.read_csv(\"eng_pp_9523_eda_pivoted.csv\")"
   ]
  },
  {
   "cell_type": "code",
   "execution_count": 3,
   "id": "b9775b98",
   "metadata": {},
   "outputs": [],
   "source": [
    "# Group data by county and calculate the proportion of each property type\n",
    "county_prop_types = df.groupby('County')[['Detached', 'Semi-detached', 'Terraced', 'Flat', 'Others']].sum()\n",
    "county_prop_types = county_prop_types.div(county_prop_types.sum(axis=1), axis=0) * 100"
   ]
  },
  {
   "cell_type": "code",
   "execution_count": 4,
   "id": "2c3d440c",
   "metadata": {},
   "outputs": [
    {
     "name": "stdout",
     "output_type": "stream",
     "text": [
      "Highest Detached proportion: RUTLAND (47.92%)\n",
      "Lowest Detached proportion: GREATER LONDON (4.41%)\n",
      "---\n",
      "Highest Semi-detached proportion: SOUTH YORKSHIRE (37.99%)\n",
      "Lowest Semi-detached proportion: GREATER LONDON (14.78%)\n",
      "---\n",
      "Highest Terraced proportion: DURHAM (45.07%)\n",
      "Lowest Terraced proportion: SURREY (18.47%)\n",
      "---\n",
      "Highest Flat proportion: GREATER LONDON (50.50%)\n",
      "Lowest Flat proportion: DURHAM (3.74%)\n",
      "---\n",
      "Highest Others proportion: HEREFORDSHIRE (3.16%)\n",
      "Lowest Others proportion: BEDFORDSHIRE (0.00%)\n",
      "---\n"
     ]
    }
   ],
   "source": [
    "# Identify counties with highest and lowest proportions for each property type\n",
    "for prop_type in county_prop_types.columns:\n",
    "    # Highest proportion\n",
    "    highest_county = county_prop_types[prop_type].idxmax()\n",
    "    highest_prop = county_prop_types[prop_type].max()\n",
    "    print(f\"Highest {prop_type} proportion: {highest_county} ({highest_prop:.2f}%)\")\n",
    "\n",
    "    # Lowest proportion\n",
    "    lowest_county = county_prop_types[prop_type].idxmin()\n",
    "    lowest_prop = county_prop_types[prop_type].min()\n",
    "    print(f\"Lowest {prop_type} proportion: {lowest_county} ({lowest_prop:.2f}%)\")\n",
    "\n",
    "    print(\"---\")"
   ]
  },
  {
   "cell_type": "code",
   "execution_count": null,
   "id": "b392a2a9",
   "metadata": {},
   "outputs": [],
   "source": []
  }
 ],
 "metadata": {
  "kernelspec": {
   "display_name": "Python 3 (ipykernel)",
   "language": "python",
   "name": "python3"
  },
  "language_info": {
   "codemirror_mode": {
    "name": "ipython",
    "version": 3
   },
   "file_extension": ".py",
   "mimetype": "text/x-python",
   "name": "python",
   "nbconvert_exporter": "python",
   "pygments_lexer": "ipython3",
   "version": "3.11.4"
  }
 },
 "nbformat": 4,
 "nbformat_minor": 5
}
