{
 "cells": [
  {
   "cell_type": "code",
   "execution_count": 1,
   "id": "53da9911",
   "metadata": {},
   "outputs": [],
   "source": [
    "import pandas as pd\n",
    "import numpy as np\n",
    "from sklearn.model_selection import KFold, cross_val_score\n",
    "from sklearn.ensemble import RandomForestRegressor\n",
    "from sklearn.metrics import mean_squared_error\n",
    "from sklearn.preprocessing import OneHotEncoder\n",
    "from sklearn.linear_model import LinearRegression"
   ]
  },
  {
   "cell_type": "code",
   "execution_count": 2,
   "id": "0577659f",
   "metadata": {},
   "outputs": [],
   "source": [
    "# Load the dataset\n",
    "df = pd.read_csv('eng_pp_9523_eda_pivoted.csv')"
   ]
  },
  {
   "cell_type": "code",
   "execution_count": 3,
   "id": "ff639d80",
   "metadata": {},
   "outputs": [
    {
     "data": {
      "text/html": [
       "<div>\n",
       "<style scoped>\n",
       "    .dataframe tbody tr th:only-of-type {\n",
       "        vertical-align: middle;\n",
       "    }\n",
       "\n",
       "    .dataframe tbody tr th {\n",
       "        vertical-align: top;\n",
       "    }\n",
       "\n",
       "    .dataframe thead th {\n",
       "        text-align: right;\n",
       "    }\n",
       "</style>\n",
       "<table border=\"1\" class=\"dataframe\">\n",
       "  <thead>\n",
       "    <tr style=\"text-align: right;\">\n",
       "      <th></th>\n",
       "      <th>Unnamed: 0</th>\n",
       "      <th>Year</th>\n",
       "      <th>Month</th>\n",
       "      <th>price</th>\n",
       "      <th>Old/New</th>\n",
       "      <th>Detached</th>\n",
       "      <th>Semi-detached</th>\n",
       "      <th>Terraced</th>\n",
       "      <th>Flat</th>\n",
       "      <th>Others</th>\n",
       "      <th>Street</th>\n",
       "      <th>Locality</th>\n",
       "      <th>Town/City</th>\n",
       "      <th>District</th>\n",
       "      <th>County</th>\n",
       "    </tr>\n",
       "  </thead>\n",
       "  <tbody>\n",
       "    <tr>\n",
       "      <th>0</th>\n",
       "      <td>0</td>\n",
       "      <td>1995</td>\n",
       "      <td>February</td>\n",
       "      <td>44500</td>\n",
       "      <td>N</td>\n",
       "      <td>0</td>\n",
       "      <td>0</td>\n",
       "      <td>1</td>\n",
       "      <td>0</td>\n",
       "      <td>0</td>\n",
       "      <td>HOWICK PARK</td>\n",
       "      <td>SUNDERLAND</td>\n",
       "      <td>SUNDERLAND</td>\n",
       "      <td>SUNDERLAND</td>\n",
       "      <td>TYNE AND WEAR</td>\n",
       "    </tr>\n",
       "    <tr>\n",
       "      <th>1</th>\n",
       "      <td>1</td>\n",
       "      <td>1995</td>\n",
       "      <td>January</td>\n",
       "      <td>56500</td>\n",
       "      <td>N</td>\n",
       "      <td>0</td>\n",
       "      <td>0</td>\n",
       "      <td>1</td>\n",
       "      <td>0</td>\n",
       "      <td>0</td>\n",
       "      <td>BRICK KILN CLOSE</td>\n",
       "      <td>COGGESHALL</td>\n",
       "      <td>COLCHESTER</td>\n",
       "      <td>BRAINTREE</td>\n",
       "      <td>ESSEX</td>\n",
       "    </tr>\n",
       "    <tr>\n",
       "      <th>2</th>\n",
       "      <td>2</td>\n",
       "      <td>1995</td>\n",
       "      <td>July</td>\n",
       "      <td>58000</td>\n",
       "      <td>N</td>\n",
       "      <td>0</td>\n",
       "      <td>0</td>\n",
       "      <td>1</td>\n",
       "      <td>0</td>\n",
       "      <td>0</td>\n",
       "      <td>RAINSBROOK DRIVE</td>\n",
       "      <td>SHIRLEY</td>\n",
       "      <td>SOLIHULL</td>\n",
       "      <td>SOLIHULL</td>\n",
       "      <td>WEST MIDLANDS</td>\n",
       "    </tr>\n",
       "    <tr>\n",
       "      <th>3</th>\n",
       "      <td>3</td>\n",
       "      <td>1995</td>\n",
       "      <td>June</td>\n",
       "      <td>51000</td>\n",
       "      <td>N</td>\n",
       "      <td>0</td>\n",
       "      <td>1</td>\n",
       "      <td>0</td>\n",
       "      <td>0</td>\n",
       "      <td>0</td>\n",
       "      <td>MERRY HILL</td>\n",
       "      <td>BRIERLEY HILL</td>\n",
       "      <td>BRIERLEY HILL</td>\n",
       "      <td>DUDLEY</td>\n",
       "      <td>WEST MIDLANDS</td>\n",
       "    </tr>\n",
       "    <tr>\n",
       "      <th>4</th>\n",
       "      <td>4</td>\n",
       "      <td>1995</td>\n",
       "      <td>March</td>\n",
       "      <td>17000</td>\n",
       "      <td>N</td>\n",
       "      <td>0</td>\n",
       "      <td>0</td>\n",
       "      <td>1</td>\n",
       "      <td>0</td>\n",
       "      <td>0</td>\n",
       "      <td>DENMAN STREET</td>\n",
       "      <td>ROTHERHAM</td>\n",
       "      <td>ROTHERHAM</td>\n",
       "      <td>ROTHERHAM</td>\n",
       "      <td>SOUTH YORKSHIRE</td>\n",
       "    </tr>\n",
       "  </tbody>\n",
       "</table>\n",
       "</div>"
      ],
      "text/plain": [
       "   Unnamed: 0  Year     Month  price Old/New  Detached  Semi-detached  \\\n",
       "0           0  1995  February  44500       N         0              0   \n",
       "1           1  1995   January  56500       N         0              0   \n",
       "2           2  1995      July  58000       N         0              0   \n",
       "3           3  1995      June  51000       N         0              1   \n",
       "4           4  1995     March  17000       N         0              0   \n",
       "\n",
       "   Terraced  Flat  Others            Street       Locality      Town/City  \\\n",
       "0         1     0       0       HOWICK PARK     SUNDERLAND     SUNDERLAND   \n",
       "1         1     0       0  BRICK KILN CLOSE     COGGESHALL     COLCHESTER   \n",
       "2         1     0       0  RAINSBROOK DRIVE        SHIRLEY       SOLIHULL   \n",
       "3         0     0       0        MERRY HILL  BRIERLEY HILL  BRIERLEY HILL   \n",
       "4         1     0       0     DENMAN STREET      ROTHERHAM      ROTHERHAM   \n",
       "\n",
       "     District           County  \n",
       "0  SUNDERLAND    TYNE AND WEAR  \n",
       "1   BRAINTREE            ESSEX  \n",
       "2    SOLIHULL    WEST MIDLANDS  \n",
       "3      DUDLEY    WEST MIDLANDS  \n",
       "4   ROTHERHAM  SOUTH YORKSHIRE  "
      ]
     },
     "execution_count": 3,
     "metadata": {},
     "output_type": "execute_result"
    }
   ],
   "source": [
    "df.head()"
   ]
  },
  {
   "cell_type": "code",
   "execution_count": 4,
   "id": "05091540",
   "metadata": {},
   "outputs": [],
   "source": [
    "def predict_demand_cv(target_var):\n",
    "  # Filter data for specific property type\n",
    "  data = df[[\"Year\", \"Month\"] + [target_var]]\n",
    "\n",
    "  # Convert Month to numerical format (assuming consistent formatting)\n",
    "  data[\"Month\"] = pd.to_datetime(data[\"Month\"], format='%B').dt.month\n",
    "\n",
    "  # Create features\n",
    "  features = [\"Month\"]\n",
    "\n",
    "  # K-Fold cross-validation setup\n",
    "  kfold = KFold(n_splits=10, shuffle=True, random_state=42)  # Adjust n_splits as needed\n",
    "\n",
    "  # Model dictionary\n",
    "  models = {\n",
    "      \"Linear Regression\": LinearRegression(),\n",
    "      \"Random Forest\": RandomForestRegressor(n_estimators=100),\n",
    "  }\n",
    "\n",
    "  # Evaluate models using KFold cross-validation\n",
    "  for name, model in models.items():\n",
    "    mse_scores = cross_val_score(model, data[features], data[target_var], cv=kfold, scoring=\"neg_mean_squared_error\")\n",
    "    average_mse = np.mean(mse_scores) * -1  # Convert negative MSE to positive\n",
    "    print(f\"{name} - Average MSE for {target_var} (KFold CV): {average_mse:.2f}\")\n",
    "\n",
    "  # Prediction and visualization can be implemented here based on the best performing model\n",
    "\n"
   ]
  },
  {
   "cell_type": "code",
   "execution_count": 18,
   "id": "5054bfb4",
   "metadata": {
    "scrolled": false
   },
   "outputs": [
    {
     "name": "stderr",
     "output_type": "stream",
     "text": [
      "C:\\Users\\David\\AppData\\Local\\Temp\\ipykernel_1760\\568215472.py:6: SettingWithCopyWarning: \n",
      "A value is trying to be set on a copy of a slice from a DataFrame.\n",
      "Try using .loc[row_indexer,col_indexer] = value instead\n",
      "\n",
      "See the caveats in the documentation: https://pandas.pydata.org/pandas-docs/stable/user_guide/indexing.html#returning-a-view-versus-a-copy\n",
      "  data[\"Month\"] = pd.to_datetime(data[\"Month\"], format='%B').dt.month\n"
     ]
    },
    {
     "name": "stdout",
     "output_type": "stream",
     "text": [
      "Linear Regression - Average MSE for Detached (KFold CV): 0.18\n",
      "Random Forest - Average MSE for Detached (KFold CV): 0.18\n"
     ]
    }
   ],
   "source": [
    "# Example usage (assuming 'Detached' is the target property type)\n",
    "predict_demand_cv(\"Detached\")"
   ]
  },
  {
   "cell_type": "code",
   "execution_count": 5,
   "id": "54246185",
   "metadata": {
    "scrolled": false
   },
   "outputs": [
    {
     "name": "stderr",
     "output_type": "stream",
     "text": [
      "C:\\Users\\David\\AppData\\Local\\Temp\\ipykernel_18452\\568215472.py:6: SettingWithCopyWarning: \n",
      "A value is trying to be set on a copy of a slice from a DataFrame.\n",
      "Try using .loc[row_indexer,col_indexer] = value instead\n",
      "\n",
      "See the caveats in the documentation: https://pandas.pydata.org/pandas-docs/stable/user_guide/indexing.html#returning-a-view-versus-a-copy\n",
      "  data[\"Month\"] = pd.to_datetime(data[\"Month\"], format='%B').dt.month\n"
     ]
    },
    {
     "name": "stdout",
     "output_type": "stream",
     "text": [
      "Linear Regression - Average MSE for Semi-detached (KFold CV): 0.20\n",
      "Random Forest - Average MSE for Semi-detached (KFold CV): 0.20\n"
     ]
    }
   ],
   "source": [
    "predict_demand_cv(\"Semi-detached\")"
   ]
  },
  {
   "cell_type": "code",
   "execution_count": 6,
   "id": "523a7bff",
   "metadata": {},
   "outputs": [
    {
     "name": "stderr",
     "output_type": "stream",
     "text": [
      "C:\\Users\\David\\AppData\\Local\\Temp\\ipykernel_18452\\568215472.py:6: SettingWithCopyWarning: \n",
      "A value is trying to be set on a copy of a slice from a DataFrame.\n",
      "Try using .loc[row_indexer,col_indexer] = value instead\n",
      "\n",
      "See the caveats in the documentation: https://pandas.pydata.org/pandas-docs/stable/user_guide/indexing.html#returning-a-view-versus-a-copy\n",
      "  data[\"Month\"] = pd.to_datetime(data[\"Month\"], format='%B').dt.month\n"
     ]
    },
    {
     "name": "stdout",
     "output_type": "stream",
     "text": [
      "Linear Regression - Average MSE for Terraced (KFold CV): 0.21\n",
      "Random Forest - Average MSE for Terraced (KFold CV): 0.21\n"
     ]
    }
   ],
   "source": [
    "predict_demand_cv(\"Terraced\")"
   ]
  },
  {
   "cell_type": "code",
   "execution_count": 5,
   "id": "2dfbf6c1",
   "metadata": {},
   "outputs": [
    {
     "name": "stderr",
     "output_type": "stream",
     "text": [
      "C:\\Users\\David\\AppData\\Local\\Temp\\ipykernel_10924\\568215472.py:6: SettingWithCopyWarning: \n",
      "A value is trying to be set on a copy of a slice from a DataFrame.\n",
      "Try using .loc[row_indexer,col_indexer] = value instead\n",
      "\n",
      "See the caveats in the documentation: https://pandas.pydata.org/pandas-docs/stable/user_guide/indexing.html#returning-a-view-versus-a-copy\n",
      "  data[\"Month\"] = pd.to_datetime(data[\"Month\"], format='%B').dt.month\n"
     ]
    },
    {
     "name": "stdout",
     "output_type": "stream",
     "text": [
      "Linear Regression - Average MSE for Flat (KFold CV): 0.15\n",
      "Random Forest - Average MSE for Flat (KFold CV): 0.15\n"
     ]
    }
   ],
   "source": [
    "predict_demand_cv(\"Flat\")"
   ]
  },
  {
   "cell_type": "code",
   "execution_count": 6,
   "id": "6a90acae",
   "metadata": {
    "scrolled": false
   },
   "outputs": [
    {
     "name": "stderr",
     "output_type": "stream",
     "text": [
      "C:\\Users\\David\\AppData\\Local\\Temp\\ipykernel_10924\\568215472.py:6: SettingWithCopyWarning: \n",
      "A value is trying to be set on a copy of a slice from a DataFrame.\n",
      "Try using .loc[row_indexer,col_indexer] = value instead\n",
      "\n",
      "See the caveats in the documentation: https://pandas.pydata.org/pandas-docs/stable/user_guide/indexing.html#returning-a-view-versus-a-copy\n",
      "  data[\"Month\"] = pd.to_datetime(data[\"Month\"], format='%B').dt.month\n"
     ]
    },
    {
     "name": "stdout",
     "output_type": "stream",
     "text": [
      "Linear Regression - Average MSE for Others (KFold CV): 0.02\n",
      "Random Forest - Average MSE for Others (KFold CV): 0.02\n"
     ]
    }
   ],
   "source": [
    "predict_demand_cv(\"Others\")"
   ]
  },
  {
   "cell_type": "code",
   "execution_count": null,
   "id": "5e3547fa",
   "metadata": {},
   "outputs": [],
   "source": []
  }
 ],
 "metadata": {
  "kernelspec": {
   "display_name": "Python 3 (ipykernel)",
   "language": "python",
   "name": "python3"
  },
  "language_info": {
   "codemirror_mode": {
    "name": "ipython",
    "version": 3
   },
   "file_extension": ".py",
   "mimetype": "text/x-python",
   "name": "python",
   "nbconvert_exporter": "python",
   "pygments_lexer": "ipython3",
   "version": "3.11.4"
  }
 },
 "nbformat": 4,
 "nbformat_minor": 5
}
