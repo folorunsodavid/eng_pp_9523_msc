{
 "cells": [
  {
   "cell_type": "code",
   "execution_count": 1,
   "id": "587f9fa9",
   "metadata": {},
   "outputs": [],
   "source": [
    "import pandas as pd\n",
    "from statsmodels.tsa.holtwinters import ExponentialSmoothing"
   ]
  },
  {
   "cell_type": "code",
   "execution_count": 2,
   "id": "0da3aed8",
   "metadata": {},
   "outputs": [],
   "source": [
    "# Load the decomposed data\n",
    "df = pd.read_csv(\"eng_pp_9523_eda_pivoted.csv\")"
   ]
  },
  {
   "cell_type": "code",
   "execution_count": 3,
   "id": "97ca04c9",
   "metadata": {
    "scrolled": false
   },
   "outputs": [
    {
     "data": {
      "text/html": [
       "<div>\n",
       "<style scoped>\n",
       "    .dataframe tbody tr th:only-of-type {\n",
       "        vertical-align: middle;\n",
       "    }\n",
       "\n",
       "    .dataframe tbody tr th {\n",
       "        vertical-align: top;\n",
       "    }\n",
       "\n",
       "    .dataframe thead th {\n",
       "        text-align: right;\n",
       "    }\n",
       "</style>\n",
       "<table border=\"1\" class=\"dataframe\">\n",
       "  <thead>\n",
       "    <tr style=\"text-align: right;\">\n",
       "      <th></th>\n",
       "      <th>Unnamed: 0</th>\n",
       "      <th>Year</th>\n",
       "      <th>Month</th>\n",
       "      <th>price</th>\n",
       "      <th>Old/New</th>\n",
       "      <th>Detached</th>\n",
       "      <th>Semi-detached</th>\n",
       "      <th>Terraced</th>\n",
       "      <th>Flat</th>\n",
       "      <th>Others</th>\n",
       "      <th>Street</th>\n",
       "      <th>Locality</th>\n",
       "      <th>Town/City</th>\n",
       "      <th>District</th>\n",
       "      <th>County</th>\n",
       "    </tr>\n",
       "  </thead>\n",
       "  <tbody>\n",
       "    <tr>\n",
       "      <th>0</th>\n",
       "      <td>0</td>\n",
       "      <td>1995</td>\n",
       "      <td>February</td>\n",
       "      <td>44500</td>\n",
       "      <td>N</td>\n",
       "      <td>0</td>\n",
       "      <td>0</td>\n",
       "      <td>1</td>\n",
       "      <td>0</td>\n",
       "      <td>0</td>\n",
       "      <td>HOWICK PARK</td>\n",
       "      <td>SUNDERLAND</td>\n",
       "      <td>SUNDERLAND</td>\n",
       "      <td>SUNDERLAND</td>\n",
       "      <td>TYNE AND WEAR</td>\n",
       "    </tr>\n",
       "    <tr>\n",
       "      <th>1</th>\n",
       "      <td>1</td>\n",
       "      <td>1995</td>\n",
       "      <td>January</td>\n",
       "      <td>56500</td>\n",
       "      <td>N</td>\n",
       "      <td>0</td>\n",
       "      <td>0</td>\n",
       "      <td>1</td>\n",
       "      <td>0</td>\n",
       "      <td>0</td>\n",
       "      <td>BRICK KILN CLOSE</td>\n",
       "      <td>COGGESHALL</td>\n",
       "      <td>COLCHESTER</td>\n",
       "      <td>BRAINTREE</td>\n",
       "      <td>ESSEX</td>\n",
       "    </tr>\n",
       "    <tr>\n",
       "      <th>2</th>\n",
       "      <td>2</td>\n",
       "      <td>1995</td>\n",
       "      <td>July</td>\n",
       "      <td>58000</td>\n",
       "      <td>N</td>\n",
       "      <td>0</td>\n",
       "      <td>0</td>\n",
       "      <td>1</td>\n",
       "      <td>0</td>\n",
       "      <td>0</td>\n",
       "      <td>RAINSBROOK DRIVE</td>\n",
       "      <td>SHIRLEY</td>\n",
       "      <td>SOLIHULL</td>\n",
       "      <td>SOLIHULL</td>\n",
       "      <td>WEST MIDLANDS</td>\n",
       "    </tr>\n",
       "    <tr>\n",
       "      <th>3</th>\n",
       "      <td>3</td>\n",
       "      <td>1995</td>\n",
       "      <td>June</td>\n",
       "      <td>51000</td>\n",
       "      <td>N</td>\n",
       "      <td>0</td>\n",
       "      <td>1</td>\n",
       "      <td>0</td>\n",
       "      <td>0</td>\n",
       "      <td>0</td>\n",
       "      <td>MERRY HILL</td>\n",
       "      <td>BRIERLEY HILL</td>\n",
       "      <td>BRIERLEY HILL</td>\n",
       "      <td>DUDLEY</td>\n",
       "      <td>WEST MIDLANDS</td>\n",
       "    </tr>\n",
       "    <tr>\n",
       "      <th>4</th>\n",
       "      <td>4</td>\n",
       "      <td>1995</td>\n",
       "      <td>March</td>\n",
       "      <td>17000</td>\n",
       "      <td>N</td>\n",
       "      <td>0</td>\n",
       "      <td>0</td>\n",
       "      <td>1</td>\n",
       "      <td>0</td>\n",
       "      <td>0</td>\n",
       "      <td>DENMAN STREET</td>\n",
       "      <td>ROTHERHAM</td>\n",
       "      <td>ROTHERHAM</td>\n",
       "      <td>ROTHERHAM</td>\n",
       "      <td>SOUTH YORKSHIRE</td>\n",
       "    </tr>\n",
       "  </tbody>\n",
       "</table>\n",
       "</div>"
      ],
      "text/plain": [
       "   Unnamed: 0  Year     Month  price Old/New  Detached  Semi-detached  \\\n",
       "0           0  1995  February  44500       N         0              0   \n",
       "1           1  1995   January  56500       N         0              0   \n",
       "2           2  1995      July  58000       N         0              0   \n",
       "3           3  1995      June  51000       N         0              1   \n",
       "4           4  1995     March  17000       N         0              0   \n",
       "\n",
       "   Terraced  Flat  Others            Street       Locality      Town/City  \\\n",
       "0         1     0       0       HOWICK PARK     SUNDERLAND     SUNDERLAND   \n",
       "1         1     0       0  BRICK KILN CLOSE     COGGESHALL     COLCHESTER   \n",
       "2         1     0       0  RAINSBROOK DRIVE        SHIRLEY       SOLIHULL   \n",
       "3         0     0       0        MERRY HILL  BRIERLEY HILL  BRIERLEY HILL   \n",
       "4         1     0       0     DENMAN STREET      ROTHERHAM      ROTHERHAM   \n",
       "\n",
       "     District           County  \n",
       "0  SUNDERLAND    TYNE AND WEAR  \n",
       "1   BRAINTREE            ESSEX  \n",
       "2    SOLIHULL    WEST MIDLANDS  \n",
       "3      DUDLEY    WEST MIDLANDS  \n",
       "4   ROTHERHAM  SOUTH YORKSHIRE  "
      ]
     },
     "execution_count": 3,
     "metadata": {},
     "output_type": "execute_result"
    }
   ],
   "source": [
    "df.head()"
   ]
  },
  {
   "cell_type": "code",
   "execution_count": 4,
   "id": "bde9f7ae",
   "metadata": {
    "scrolled": false
   },
   "outputs": [],
   "source": [
    "# Select trend component\n",
    "terraced = df[\"Terraced\"]\n",
    "\n",
    "# Define the exponential smoothing model (multiplicative or additive based on data characteristics)\n",
    "model = ExponentialSmoothing(terraced, trend=\"additive\", seasonal_periods = 12)  # Adjust for multiplicative if needed\n",
    "\n",
    "# You can also experiment with different smoothing parameters (alpha, beta, gamma)"
   ]
  },
  {
   "cell_type": "code",
   "execution_count": 5,
   "id": "ace0228d",
   "metadata": {},
   "outputs": [],
   "source": [
    "# Fit the model\n",
    "model_fit = model.fit()"
   ]
  },
  {
   "cell_type": "code",
   "execution_count": 6,
   "id": "51006016",
   "metadata": {},
   "outputs": [],
   "source": [
    "# Predict future values (specify desired number of predictions)\n",
    "future_predictions = model_fit.forecast(steps=13)"
   ]
  },
  {
   "cell_type": "code",
   "execution_count": 7,
   "id": "bb1e78e8",
   "metadata": {},
   "outputs": [
    {
     "name": "stdout",
     "output_type": "stream",
     "text": [
      "Predicted future trend values: 22653986    0.207073\n",
      "22653987    0.206928\n",
      "22653988    0.206782\n",
      "22653989    0.206637\n",
      "22653990    0.206492\n",
      "22653991    0.206347\n",
      "22653992    0.206202\n",
      "22653993    0.206056\n",
      "22653994    0.205911\n",
      "22653995    0.205766\n",
      "22653996    0.205621\n",
      "22653997    0.205476\n",
      "22653998    0.205330\n",
      "dtype: float64\n"
     ]
    }
   ],
   "source": [
    "# Print the predicted trend values\n",
    "print(f\"Predicted future trend values: {future_predictions}\")"
   ]
  }
 ],
 "metadata": {
  "kernelspec": {
   "display_name": "Python 3 (ipykernel)",
   "language": "python",
   "name": "python3"
  },
  "language_info": {
   "codemirror_mode": {
    "name": "ipython",
    "version": 3
   },
   "file_extension": ".py",
   "mimetype": "text/x-python",
   "name": "python",
   "nbconvert_exporter": "python",
   "pygments_lexer": "ipython3",
   "version": "3.11.4"
  }
 },
 "nbformat": 4,
 "nbformat_minor": 5
}
