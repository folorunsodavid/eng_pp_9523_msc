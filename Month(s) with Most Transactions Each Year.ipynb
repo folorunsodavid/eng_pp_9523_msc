{
 "cells": [
  {
   "cell_type": "code",
   "execution_count": 1,
   "id": "18f185fc",
   "metadata": {},
   "outputs": [],
   "source": [
    "import pandas as pd"
   ]
  },
  {
   "cell_type": "code",
   "execution_count": 2,
   "id": "6fa4f704",
   "metadata": {},
   "outputs": [],
   "source": [
    "df = pd.read_csv('eng_pp_9523_eda_pivoted.csv')"
   ]
  },
  {
   "cell_type": "code",
   "execution_count": 3,
   "id": "2b514227",
   "metadata": {},
   "outputs": [
    {
     "name": "stdout",
     "output_type": "stream",
     "text": [
      "Year | Month(s) with Most Transactions\n",
      "------- | ----------------------------\n",
      "1995 | June\n",
      "1996 | November\n",
      "1997 | July\n",
      "1998 | July\n",
      "1999 | July\n",
      "2000 | June\n",
      "2001 | August\n",
      "2002 | May\n",
      "2003 | October\n",
      "2004 | July\n",
      "2005 | December\n",
      "2006 | June\n",
      "2007 | August\n",
      "2008 | May\n",
      "2009 | December\n",
      "2010 | July\n",
      "2011 | August\n",
      "2012 | August\n",
      "2013 | November\n",
      "2014 | August\n",
      "2015 | July\n",
      "2016 | March\n",
      "2017 | June\n",
      "2018 | August\n",
      "2019 | August\n",
      "2020 | December\n",
      "2021 | June\n",
      "2022 | March\n",
      "2023 | March\n"
     ]
    }
   ],
   "source": [
    "# Reshape the DataFrame to group by Year and Month, then count the number of transactions each month within a year\n",
    "monthly_transactions = df.groupby(['Year', 'Month'])['Month'].count().unstack()\n",
    "\n",
    "# Identify the month(s) with the most transactions in each year\n",
    "most_transactions_per_year = monthly_transactions.idxmax(axis=1)\n",
    "\n",
    "# Print the result\n",
    "print(\"Year | Month(s) with Most Transactions\")\n",
    "print(\"------- | ----------------------------\")\n",
    "for year, month in most_transactions_per_year.items():\n",
    "    # In case there are multiple months with the same highest count, format the output as a comma-separated list\n",
    "    if isinstance(month, pd.Series):\n",
    "        month_str = ', '.join(map(str, month.tolist()))\n",
    "    else:\n",
    "        month_str = str(month)\n",
    "    print(f\"{year} | {month_str}\")"
   ]
  },
  {
   "cell_type": "code",
   "execution_count": null,
   "id": "c0869040",
   "metadata": {},
   "outputs": [],
   "source": []
  }
 ],
 "metadata": {
  "kernelspec": {
   "display_name": "Python 3 (ipykernel)",
   "language": "python",
   "name": "python3"
  },
  "language_info": {
   "codemirror_mode": {
    "name": "ipython",
    "version": 3
   },
   "file_extension": ".py",
   "mimetype": "text/x-python",
   "name": "python",
   "nbconvert_exporter": "python",
   "pygments_lexer": "ipython3",
   "version": "3.11.4"
  }
 },
 "nbformat": 4,
 "nbformat_minor": 5
}
