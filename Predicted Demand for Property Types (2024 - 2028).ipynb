{
 "cells": [
  {
   "cell_type": "code",
   "execution_count": 1,
   "id": "2cde86a4",
   "metadata": {},
   "outputs": [],
   "source": [
    "# Import necessary libraries\n",
    "import pandas as pd\n",
    "from sklearn.model_selection import train_test_split\n",
    "from sklearn.ensemble import RandomForestRegressor"
   ]
  },
  {
   "cell_type": "code",
   "execution_count": 2,
   "id": "14e53d27",
   "metadata": {},
   "outputs": [],
   "source": [
    "# Load data\n",
    "df = pd.read_csv(\"eng_pp_9523_eda_pivoted.csv\")"
   ]
  },
  {
   "cell_type": "code",
   "execution_count": 3,
   "id": "062a48ba",
   "metadata": {},
   "outputs": [],
   "source": [
    "# Define target variables (demand for each property type)\n",
    "target_variables = [\"Detached\", \"Semi-detached\", \"Terraced\", \"Flat\", \"Others\"]"
   ]
  },
  {
   "cell_type": "code",
   "execution_count": 4,
   "id": "9bddf8e4",
   "metadata": {},
   "outputs": [],
   "source": [
    "from sklearn.preprocessing import LabelEncoder\n",
    "\n",
    "# Create a label encoder\n",
    "le = LabelEncoder()\n",
    "\n",
    "# Encode the \"Month\" column\n",
    "df[\"Month\"] = le.fit_transform(df[\"Month\"])\n"
   ]
  },
  {
   "cell_type": "code",
   "execution_count": 7,
   "id": "5b825cb0",
   "metadata": {},
   "outputs": [],
   "source": [
    "# Function to train and predict using a model\n",
    "def predict_demand(property_type):\n",
    "  # Filter data for the specific property type\n",
    "  data_filtered = df[[\"Year\", \"Month\"] + [property_type]]\n",
    "\n",
    "  # Create feature and target variables\n",
    "  X = data_filtered.drop(property_type, axis=1)\n",
    "  y = data_filtered[property_type]\n",
    "\n",
    "  # Split data into training and testing sets\n",
    "  X_train, X_test, y_train, y_test = train_test_split(X, y, test_size=0.2)\n",
    "\n",
    "  # Create and train a model (Random Forest chosen as an example)\n",
    "  model = RandomForestRegressor(n_estimators=100)\n",
    "  model.fit(X_train, y_train)\n",
    "\n",
    "  # Predict demand for future years\n",
    "  future_years = range(2024, 2029)\n",
    "  future_data = pd.DataFrame({\"Year\": future_years, \"Month\": range(1, 13)})\n",
    "  predictions = model.predict(future_data)\n",
    "\n",
    "  # Print predictions\n",
    "  print(f\"Predicted demand for {property_type} from 2024 to 2028:\")\n",
    "  for year, month, demand in zip(future_years, range(1, 13), predictions):\n",
    "    print(f\"{year}-{month}: {demand:.2f}\")"
   ]
  },
  {
   "cell_type": "code",
   "execution_count": 14,
   "id": "50659869",
   "metadata": {
    "scrolled": false
   },
   "outputs": [
    {
     "ename": "NameError",
     "evalue": "name 'data_filtered' is not defined",
     "output_type": "error",
     "traceback": [
      "\u001b[1;31m---------------------------------------------------------------------------\u001b[0m",
      "\u001b[1;31mNameError\u001b[0m                                 Traceback (most recent call last)",
      "Cell \u001b[1;32mIn[14], line 3\u001b[0m\n\u001b[0;32m      1\u001b[0m \u001b[38;5;66;03m# Predict demand for each property type\u001b[39;00m\n\u001b[0;32m      2\u001b[0m \u001b[38;5;28;01mfor\u001b[39;00m property_type \u001b[38;5;129;01min\u001b[39;00m target_variables:\n\u001b[1;32m----> 3\u001b[0m     \u001b[38;5;28mprint\u001b[39m(data_filtered\u001b[38;5;241m.\u001b[39mhead())\n\u001b[0;32m      4\u001b[0m     predict_demand(property_type)\n",
      "\u001b[1;31mNameError\u001b[0m: name 'data_filtered' is not defined"
     ]
    }
   ],
   "source": [
    "# Predict demand for each property type\n",
    "for property_type in target_variables:\n",
    "   predict_demand(property_type)"
   ]
  },
  {
   "cell_type": "code",
   "execution_count": null,
   "id": "529c6631",
   "metadata": {},
   "outputs": [],
   "source": []
  }
 ],
 "metadata": {
  "kernelspec": {
   "display_name": "Python 3 (ipykernel)",
   "language": "python",
   "name": "python3"
  },
  "language_info": {
   "codemirror_mode": {
    "name": "ipython",
    "version": 3
   },
   "file_extension": ".py",
   "mimetype": "text/x-python",
   "name": "python",
   "nbconvert_exporter": "python",
   "pygments_lexer": "ipython3",
   "version": "3.11.4"
  }
 },
 "nbformat": 4,
 "nbformat_minor": 5
}
