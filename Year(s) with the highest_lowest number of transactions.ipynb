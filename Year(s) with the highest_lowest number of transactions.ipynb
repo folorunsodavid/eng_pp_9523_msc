{
 "cells": [
  {
   "cell_type": "code",
   "execution_count": 1,
   "id": "86c3236e",
   "metadata": {},
   "outputs": [],
   "source": [
    "import pandas as pd"
   ]
  },
  {
   "cell_type": "code",
   "execution_count": 2,
   "id": "f735f7d3",
   "metadata": {},
   "outputs": [],
   "source": [
    "df = pd.read_csv('eng_pp_9523_eda_pivoted.csv')"
   ]
  },
  {
   "cell_type": "code",
   "execution_count": 3,
   "id": "80a00809",
   "metadata": {},
   "outputs": [
    {
     "name": "stdout",
     "output_type": "stream",
     "text": [
      "Year with the Highest Number of Transactions: 2002\n",
      "Year with the Lowest Number of Transactions: 2023\n"
     ]
    }
   ],
   "source": [
    "# Calculate year with the highest number of transactions\n",
    "year_highest_transactions = df['Year'].value_counts().idxmax()\n",
    "year_lowest_transactions = df['Year'].value_counts().idxmin()\n",
    "\n",
    "#year_highest_transactions_number = df['Year'].value_counts()\n",
    "#year_lowest_transactions_number = df['Year'].value_counts()\n",
    "\n",
    "# Print result\n",
    "print(f\"Year with the Highest Number of Transactions: {year_highest_transactions}\")\n",
    "print(f\"Year with the Lowest Number of Transactions: {year_lowest_transactions}\")\n",
    "\n",
    "#print(f\"Highest Number of Transactions: {year_highest_transactions_number}\")\n",
    "#print(f\"Lowest Number of Transactions: {year_lowest_transactions_number}\")"
   ]
  },
  {
   "cell_type": "code",
   "execution_count": null,
   "id": "3bdfd5e1",
   "metadata": {},
   "outputs": [],
   "source": []
  }
 ],
 "metadata": {
  "kernelspec": {
   "display_name": "Python 3 (ipykernel)",
   "language": "python",
   "name": "python3"
  },
  "language_info": {
   "codemirror_mode": {
    "name": "ipython",
    "version": 3
   },
   "file_extension": ".py",
   "mimetype": "text/x-python",
   "name": "python",
   "nbconvert_exporter": "python",
   "pygments_lexer": "ipython3",
   "version": "3.11.4"
  }
 },
 "nbformat": 4,
 "nbformat_minor": 5
}
