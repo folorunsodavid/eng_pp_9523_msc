{
 "cells": [
  {
   "cell_type": "code",
   "execution_count": 1,
   "id": "36802e90",
   "metadata": {},
   "outputs": [],
   "source": [
    "import pandas as pd"
   ]
  },
  {
   "cell_type": "code",
   "execution_count": 2,
   "id": "66c398a4",
   "metadata": {},
   "outputs": [],
   "source": [
    "df = pd.read_csv(\"ukhousing_1995_2023.csv\", header= None)"
   ]
  },
  {
   "cell_type": "code",
   "execution_count": 3,
   "id": "d4874b57",
   "metadata": {
    "scrolled": true
   },
   "outputs": [],
   "source": [
    "df.columns=['Transaction_unique_identifier', 'price', 'Date_of_Transfer',\n",
    "'postcode', 'Property_Type', 'Old/New',\n",
    "'Duration', 'PAON', 'SAON',\n",
    "'Street', 'Locality', 'Town/City',\n",
    "'District', 'County', 'PPDCategory_Type',\n",
    "'Record_Status - monthly_file_only'\n",
    "]"
   ]
  },
  {
   "cell_type": "code",
   "execution_count": 4,
   "id": "7c439400",
   "metadata": {},
   "outputs": [
    {
     "data": {
      "text/plain": [
       "(28782630, 16)"
      ]
     },
     "execution_count": 4,
     "metadata": {},
     "output_type": "execute_result"
    }
   ],
   "source": [
    "df.shape"
   ]
  },
  {
   "cell_type": "code",
   "execution_count": 5,
   "id": "6633bcb4",
   "metadata": {
    "scrolled": true
   },
   "outputs": [
    {
     "data": {
      "text/html": [
       "<div>\n",
       "<style scoped>\n",
       "    .dataframe tbody tr th:only-of-type {\n",
       "        vertical-align: middle;\n",
       "    }\n",
       "\n",
       "    .dataframe tbody tr th {\n",
       "        vertical-align: top;\n",
       "    }\n",
       "\n",
       "    .dataframe thead th {\n",
       "        text-align: right;\n",
       "    }\n",
       "</style>\n",
       "<table border=\"1\" class=\"dataframe\">\n",
       "  <thead>\n",
       "    <tr style=\"text-align: right;\">\n",
       "      <th></th>\n",
       "      <th>Transaction_unique_identifier</th>\n",
       "      <th>price</th>\n",
       "      <th>Date_of_Transfer</th>\n",
       "      <th>postcode</th>\n",
       "      <th>Property_Type</th>\n",
       "      <th>Old/New</th>\n",
       "      <th>Duration</th>\n",
       "      <th>PAON</th>\n",
       "      <th>SAON</th>\n",
       "      <th>Street</th>\n",
       "      <th>Locality</th>\n",
       "      <th>Town/City</th>\n",
       "      <th>District</th>\n",
       "      <th>County</th>\n",
       "      <th>PPDCategory_Type</th>\n",
       "      <th>Record_Status - monthly_file_only</th>\n",
       "    </tr>\n",
       "  </thead>\n",
       "  <tbody>\n",
       "    <tr>\n",
       "      <th>0</th>\n",
       "      <td>{F887F88E-7D15-4415-804E-52EAC2F10958}</td>\n",
       "      <td>70000</td>\n",
       "      <td>1995-07-07 00:00</td>\n",
       "      <td>MK15 9HP</td>\n",
       "      <td>D</td>\n",
       "      <td>N</td>\n",
       "      <td>F</td>\n",
       "      <td>31</td>\n",
       "      <td>NaN</td>\n",
       "      <td>ALDRICH DRIVE</td>\n",
       "      <td>WILLEN</td>\n",
       "      <td>MILTON KEYNES</td>\n",
       "      <td>MILTON KEYNES</td>\n",
       "      <td>MILTON KEYNES</td>\n",
       "      <td>A</td>\n",
       "      <td>A</td>\n",
       "    </tr>\n",
       "    <tr>\n",
       "      <th>1</th>\n",
       "      <td>{40FD4DF2-5362-407C-92BC-566E2CCE89E9}</td>\n",
       "      <td>44500</td>\n",
       "      <td>1995-02-03 00:00</td>\n",
       "      <td>SR6 0AQ</td>\n",
       "      <td>T</td>\n",
       "      <td>N</td>\n",
       "      <td>F</td>\n",
       "      <td>50</td>\n",
       "      <td>NaN</td>\n",
       "      <td>HOWICK PARK</td>\n",
       "      <td>SUNDERLAND</td>\n",
       "      <td>SUNDERLAND</td>\n",
       "      <td>SUNDERLAND</td>\n",
       "      <td>TYNE AND WEAR</td>\n",
       "      <td>A</td>\n",
       "      <td>A</td>\n",
       "    </tr>\n",
       "    <tr>\n",
       "      <th>2</th>\n",
       "      <td>{7A99F89E-7D81-4E45-ABD5-566E49A045EA}</td>\n",
       "      <td>56500</td>\n",
       "      <td>1995-01-13 00:00</td>\n",
       "      <td>CO6 1SQ</td>\n",
       "      <td>T</td>\n",
       "      <td>N</td>\n",
       "      <td>F</td>\n",
       "      <td>19</td>\n",
       "      <td>NaN</td>\n",
       "      <td>BRICK KILN CLOSE</td>\n",
       "      <td>COGGESHALL</td>\n",
       "      <td>COLCHESTER</td>\n",
       "      <td>BRAINTREE</td>\n",
       "      <td>ESSEX</td>\n",
       "      <td>A</td>\n",
       "      <td>A</td>\n",
       "    </tr>\n",
       "    <tr>\n",
       "      <th>3</th>\n",
       "      <td>{28225260-E61C-4E57-8B56-566E5285B1C1}</td>\n",
       "      <td>58000</td>\n",
       "      <td>1995-07-28 00:00</td>\n",
       "      <td>B90 4TG</td>\n",
       "      <td>T</td>\n",
       "      <td>N</td>\n",
       "      <td>F</td>\n",
       "      <td>37</td>\n",
       "      <td>NaN</td>\n",
       "      <td>RAINSBROOK DRIVE</td>\n",
       "      <td>SHIRLEY</td>\n",
       "      <td>SOLIHULL</td>\n",
       "      <td>SOLIHULL</td>\n",
       "      <td>WEST MIDLANDS</td>\n",
       "      <td>A</td>\n",
       "      <td>A</td>\n",
       "    </tr>\n",
       "    <tr>\n",
       "      <th>4</th>\n",
       "      <td>{444D34D7-9BA6-43A7-B695-4F48980E0176}</td>\n",
       "      <td>51000</td>\n",
       "      <td>1995-06-28 00:00</td>\n",
       "      <td>DY5 1SA</td>\n",
       "      <td>S</td>\n",
       "      <td>N</td>\n",
       "      <td>F</td>\n",
       "      <td>59</td>\n",
       "      <td>NaN</td>\n",
       "      <td>MERRY HILL</td>\n",
       "      <td>BRIERLEY HILL</td>\n",
       "      <td>BRIERLEY HILL</td>\n",
       "      <td>DUDLEY</td>\n",
       "      <td>WEST MIDLANDS</td>\n",
       "      <td>A</td>\n",
       "      <td>A</td>\n",
       "    </tr>\n",
       "  </tbody>\n",
       "</table>\n",
       "</div>"
      ],
      "text/plain": [
       "            Transaction_unique_identifier  price  Date_of_Transfer  postcode  \\\n",
       "0  {F887F88E-7D15-4415-804E-52EAC2F10958}  70000  1995-07-07 00:00  MK15 9HP   \n",
       "1  {40FD4DF2-5362-407C-92BC-566E2CCE89E9}  44500  1995-02-03 00:00   SR6 0AQ   \n",
       "2  {7A99F89E-7D81-4E45-ABD5-566E49A045EA}  56500  1995-01-13 00:00   CO6 1SQ   \n",
       "3  {28225260-E61C-4E57-8B56-566E5285B1C1}  58000  1995-07-28 00:00   B90 4TG   \n",
       "4  {444D34D7-9BA6-43A7-B695-4F48980E0176}  51000  1995-06-28 00:00   DY5 1SA   \n",
       "\n",
       "  Property_Type Old/New Duration PAON SAON            Street       Locality  \\\n",
       "0             D       N        F   31  NaN     ALDRICH DRIVE         WILLEN   \n",
       "1             T       N        F   50  NaN       HOWICK PARK     SUNDERLAND   \n",
       "2             T       N        F   19  NaN  BRICK KILN CLOSE     COGGESHALL   \n",
       "3             T       N        F   37  NaN  RAINSBROOK DRIVE        SHIRLEY   \n",
       "4             S       N        F   59  NaN        MERRY HILL  BRIERLEY HILL   \n",
       "\n",
       "       Town/City       District         County PPDCategory_Type  \\\n",
       "0  MILTON KEYNES  MILTON KEYNES  MILTON KEYNES                A   \n",
       "1     SUNDERLAND     SUNDERLAND  TYNE AND WEAR                A   \n",
       "2     COLCHESTER      BRAINTREE          ESSEX                A   \n",
       "3       SOLIHULL       SOLIHULL  WEST MIDLANDS                A   \n",
       "4  BRIERLEY HILL         DUDLEY  WEST MIDLANDS                A   \n",
       "\n",
       "  Record_Status - monthly_file_only  \n",
       "0                                 A  \n",
       "1                                 A  \n",
       "2                                 A  \n",
       "3                                 A  \n",
       "4                                 A  "
      ]
     },
     "execution_count": 5,
     "metadata": {},
     "output_type": "execute_result"
    }
   ],
   "source": [
    "df.head()"
   ]
  },
  {
   "cell_type": "code",
   "execution_count": 6,
   "id": "a4fdcad1",
   "metadata": {},
   "outputs": [],
   "source": [
    "# Extracting data for only England from the dataset\n",
    "\n",
    "# Define a list of counties in England\n",
    "england_counties = ['BEDFORDSHIRE', 'BERKSHIRE', 'BRISTOL', 'BUCKINGHAMSHIRE', 'CAMBRIDGESHIRE', 'CHESHIRE', 'CITY OF LONDON', \n",
    "                    'CORNWALL', 'CUMBRIA', 'DERBYSHIRE', 'DEVON', 'DORSET', 'DURHAM', 'EAST RIDING OF YORKSHIRE', \n",
    "                    'EAST SUSSEX', 'ESSEX', 'GLOUCESTERSHIRE', 'GREATER LONDON', 'GREATER MANCHESTER', 'HAMPSHIRE', \n",
    "                    'HEREFORDSHIRE', 'HERTFORDSHIRE', 'ISLE OF WIGHT', 'KENT', 'LANCASHIRE', 'LEICESTERSHIRE', 'LINCOLNSHIRE',\n",
    "                    'MERSEYSIDE', 'NORFOLK', 'NORTH YORKSHIRE', 'NORTHAMPTONSHIRE', 'NORTHUMBERLAND', 'NOTTINGHAMSHIRE', \n",
    "                    'OXFORDSHIRE', 'RUTLAND', 'SHROPSHIRE', 'SOMERSET', 'SOUTH YORKSHIRE', 'STAFFORDSHIRE', 'SUFFOLK', \n",
    "                    'SURREY', 'TYNE AND WEAR', 'WARWICKSHIRE', 'WEST MIDLANDS', 'WEST SUSSEX', 'WEST YORKSHIRE', 'WILTSHIRE', \n",
    "                    'WORCESTERSHIRE']\n",
    "\n",
    "# Filter the dataset for England counties\n",
    "england_data = df[df['County'].isin(england_counties)]\n",
    "\n",
    "# Save the extracted dataset to a new CSV file\n",
    "england_data.to_csv('eng_pp_9523.csv', index=False)\n"
   ]
  }
 ],
 "metadata": {
  "kernelspec": {
   "display_name": "Python 3 (ipykernel)",
   "language": "python",
   "name": "python3"
  },
  "language_info": {
   "codemirror_mode": {
    "name": "ipython",
    "version": 3
   },
   "file_extension": ".py",
   "mimetype": "text/x-python",
   "name": "python",
   "nbconvert_exporter": "python",
   "pygments_lexer": "ipython3",
   "version": "3.11.4"
  }
 },
 "nbformat": 4,
 "nbformat_minor": 5
}
